{
 "cells": [
  {
   "cell_type": "code",
   "execution_count": 43,
   "metadata": {
    "collapsed": false
   },
   "outputs": [
    {
     "name": "stdout",
     "output_type": "stream",
     "text": [
      "Overwriting ravnina.py\n"
     ]
    }
   ],
   "source": [
    "%%writefile ravnina.py\n",
    "\n",
    "from math import sqrt\n",
    "\n",
    "class Tocka:\n",
    "    \"\"\"\n",
    "    Opis ove klase\n",
    "    2-dim tocke u ravnini\n",
    "    \"\"\"\n",
    "    def __init__(self,x,y): # konstruktor\n",
    "        self.x=x\n",
    "        self.y=y\n",
    "        \n",
    "    def norm(self):\n",
    "        return sqrt(self.x**2+self.y**2)\n",
    "    \n",
    "    def __repr__(self):\n",
    "        return \"Tocka ({0}, {1})\".format(self.x,self.y)\n",
    "        "
   ]
  },
  {
   "cell_type": "code",
   "execution_count": 22,
   "metadata": {
    "collapsed": false
   },
   "outputs": [
    {
     "data": {
      "text/plain": [
       "5.000000000000001"
      ]
     },
     "execution_count": 22,
     "metadata": {},
     "output_type": "execute_result"
    }
   ],
   "source": [
    "A=Tocka(1,2)\n",
    "A.norm()**2"
   ]
  },
  {
   "cell_type": "code",
   "execution_count": 44,
   "metadata": {
    "collapsed": false
   },
   "outputs": [],
   "source": [
    "class Vector(Tocka):\n",
    "    \"\"\"\n",
    "    Opis ove klase\n",
    "    \"\"\"\n",
    "    def __add__(self,b):\n",
    "        x=self.x+b.x\n",
    "        y=self.y+b.y\n",
    "        return Vector(x,y)\n",
    "    \n",
    "    def __repr__(self):\n",
    "        return \"Vector ({0}, {1})\".format(self.x,self.y)"
   ]
  },
  {
   "cell_type": "code",
   "execution_count": 45,
   "metadata": {
    "collapsed": false
   },
   "outputs": [
    {
     "name": "stdout",
     "output_type": "stream",
     "text": [
      "Vector (0, -1)\n",
      "0 -1\n"
     ]
    }
   ],
   "source": [
    "a=Vector(-1,-3)\n",
    "b=Vector(1,2)\n",
    "c=a+b\n",
    "print (c)\n",
    "print (c.x,c.y)"
   ]
  },
  {
   "cell_type": "code",
   "execution_count": null,
   "metadata": {
    "collapsed": true
   },
   "outputs": [],
   "source": [
    "zbroji_vektore"
   ]
  }
 ],
 "metadata": {
  "kernelspec": {
   "display_name": "Python 3",
   "language": "python",
   "name": "python3"
  },
  "language_info": {
   "codemirror_mode": {
    "name": "ipython",
    "version": 3
   },
   "file_extension": ".py",
   "mimetype": "text/x-python",
   "name": "python",
   "nbconvert_exporter": "python",
   "pygments_lexer": "ipython3",
   "version": "3.4.3"
  }
 },
 "nbformat": 4,
 "nbformat_minor": 0
}
