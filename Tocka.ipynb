{
 "cells": [
  {
   "cell_type": "code",
   "execution_count": 293,
   "metadata": {
    "collapsed": false
   },
   "outputs": [],
   "source": [
    "# %%writefile ravnina.py\n",
    "\n",
    "from math import sqrt\n",
    "\n",
    "class Tocka:\n",
    "    \"\"\"\n",
    "    Opis ove klase\n",
    "    2-dim tocke u ravnini\n",
    "    \"\"\"\n",
    "    def __init__(self,x,y): # konstruktor\n",
    "        self.x=x\n",
    "        self.y=y\n",
    "        \n",
    "    def norm(self):\n",
    "        return sqrt(self.x**2+self.y**2)\n",
    "    \n",
    "    def __repr__(self):\n",
    "        return \"Tocka ({0}, {1})\".format(self.x,self.y)\n",
    "    \n",
    "class Vector(Tocka):\n",
    "    \"\"\"\n",
    "    Opis ove klase\n",
    "    \"\"\"\n",
    "    \n",
    "    def __add__(self,b):\n",
    "        x=self.x+b.x\n",
    "        y=self.y+b.y\n",
    "        return Vector(x,y)\n",
    "    \n",
    "    def __repr__(self):\n",
    "        return \"Vector ({0}, {1})\".format(self.x,self.y)\n",
    "\n",
    "    def norm(self):\n",
    "        return sqrt( self.x**2 + self.y**2  )\n",
    "    \n",
    "    def __sub__(self,b):\n",
    "        x=self.x-b.x\n",
    "        y=self.y-b.y\n",
    "        return 1\n",
    "        #return Vector(x,y)\n",
    "    \n",
    "    def __mul__(self,b):\n",
    "        L1=[self.x,self.y]\n",
    "        L2=[b.x,b.y]\n",
    "        return sum([i*j for (i, j) in zip(L1, L2)])"
   ]
  },
  {
   "cell_type": "code",
   "execution_count": 19,
   "metadata": {
    "collapsed": false
   },
   "outputs": [
    {
     "data": {
      "text/plain": [
       "5.000000000000001"
      ]
     },
     "execution_count": 19,
     "metadata": {},
     "output_type": "execute_result"
    }
   ],
   "source": [
    "A=Tocka(1,2)\n",
    "A.norm()**2"
   ]
  },
  {
   "cell_type": "code",
   "execution_count": 160,
   "metadata": {
    "collapsed": false
   },
   "outputs": [
    {
     "name": "stdout",
     "output_type": "stream",
     "text": [
      "Vector (0, -1)\n",
      "0 -1\n"
     ]
    }
   ],
   "source": [
    "a=Vector(-1,-3)\n",
    "b=Vector(1,2)\n",
    "c=a+b\n",
    "print (c)\n",
    "print (c.x,c.y)"
   ]
  },
  {
   "cell_type": "markdown",
   "metadata": {},
   "source": [
    "# ZADAĆA\n",
    "a) operacije s vektorima"
   ]
  },
  {
   "cell_type": "code",
   "execution_count": 280,
   "metadata": {
    "collapsed": false
   },
   "outputs": [
    {
     "data": {
      "text/plain": [
       "1"
      ]
     },
     "execution_count": 280,
     "metadata": {},
     "output_type": "execute_result"
    }
   ],
   "source": [
    "a = Vector(  1,  2)\n",
    "b = Vector(-12, 34)\n",
    "c = Vector( 34,-13)\n",
    "a+b\n",
    "a-b\n",
    "# 2*b\n"
   ]
  },
  {
   "cell_type": "markdown",
   "metadata": {},
   "source": [
    "b) Snimite obje klase u datoteku (modul) ravnina.py.\n",
    "Upotrebite %writefile koji je trenutno zakomentiran.\n",
    "\n",
    "ODKOMENTIRATI  PRVI  REDAK  PRVE  ĆELIJE"
   ]
  },
  {
   "cell_type": "markdown",
   "metadata": {},
   "source": [
    "c) Napraviti rr.py aplikaciju koju iz konzole možemo pozvati na sljedeće načine."
   ]
  },
  {
   "cell_type": "code",
   "execution_count": 295,
   "metadata": {
    "collapsed": false
   },
   "outputs": [
    {
     "name": "stdout",
     "output_type": "stream",
     "text": [
      "Overwriting rr.py\n"
     ]
    }
   ],
   "source": [
    "%%writefile rr.py \n",
    "import re\n",
    "import argparse\n",
    "    \n",
    "# PARSER\n",
    "parser = argparse.ArgumentParser()\n",
    "parser.add_argument('--add','--sub', '--verbose', '--debug', action='store_const', const=sum, help='add or sub')\n",
    "parser.add_argument('vektori', metavar='[ x, y] ', type=str, nargs='+', help='Vektor za operacije')\n",
    "args = parser.parse_args()\n",
    "\n",
    "for x in args.vektori:\n",
    "    m = re.search('^\\[([0-9_-]+),([0-9_-]+)\\]', x)\n",
    "    if(m):\n",
    "        xx=m.group(1)\n",
    "        yy=m.group(2)\n",
    "        print(\"Vektor (\"+xx+\",\",yy+\")\")\n",
    "\n",
    "    else:\n",
    "        print (\"Pogresan regex\")"
   ]
  },
  {
   "cell_type": "code",
   "execution_count": 297,
   "metadata": {
    "collapsed": false
   },
   "outputs": [
    {
     "name": "stdout",
     "output_type": "stream",
     "text": [
      "Vektor (1, 3)\r\n",
      "Vektor (3, 2)\r\n"
     ]
    }
   ],
   "source": [
    "!python rr.py --sub [1,3]  [3,2] --debug"
   ]
  },
  {
   "cell_type": "markdown",
   "metadata": {},
   "source": [
    "d) Implementirajte skalarni produkt ovih vektora tako da je podržano računanje skalarnog produkta"
   ]
  },
  {
   "cell_type": "code",
   "execution_count": 296,
   "metadata": {
    "collapsed": false
   },
   "outputs": [
    {
     "data": {
      "text/plain": [
       "56"
      ]
     },
     "execution_count": 296,
     "metadata": {},
     "output_type": "execute_result"
    }
   ],
   "source": [
    "a = Vector(  1,  2)\n",
    "b = Vector(-12, 34)\n",
    "a*b"
   ]
  }
 ],
 "metadata": {
  "kernelspec": {
   "display_name": "Python 3",
   "language": "python",
   "name": "python3"
  },
  "language_info": {
   "codemirror_mode": {
    "name": "ipython",
    "version": 3
   },
   "file_extension": ".py",
   "mimetype": "text/x-python",
   "name": "python",
   "nbconvert_exporter": "python",
   "pygments_lexer": "ipython3",
   "version": "3.4.3"
  }
 },
 "nbformat": 4,
 "nbformat_minor": 0
}
