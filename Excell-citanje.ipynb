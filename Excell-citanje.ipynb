{
 "cells": [
  {
   "cell_type": "code",
   "execution_count": 10,
   "metadata": {
    "collapsed": false
   },
   "outputs": [
    {
     "name": "stdout",
     "output_type": "stream",
     "text": [
      "Excel-citanje.ipynb  pywo_some_data.xlsx\r\n"
     ]
    }
   ],
   "source": [
    "!ls ../../03"
   ]
  },
  {
   "cell_type": "code",
   "execution_count": 11,
   "metadata": {
    "collapsed": true
   },
   "outputs": [],
   "source": [
    "filename=\"pywo_some_data.xlsx\""
   ]
  },
  {
   "cell_type": "markdown",
   "metadata": {},
   "source": [
    "Otvoriti ovaj excell file i procitati prvi stupac\n",
    "Za to nam treba modul ''xlrd''"
   ]
  },
  {
   "cell_type": "code",
   "execution_count": 12,
   "metadata": {
    "collapsed": false
   },
   "outputs": [
    {
     "name": "stdout",
     "output_type": "stream",
     "text": [
      "\n",
      "Josip Mlakar, \n",
      "Elvis Popović, \n",
      "Vladimir Milašinović, \n",
      "Filip Rafajec, \n",
      "Matej Gucek, \n",
      "Jura Šolja, \n",
      "Gabrijela Grgača, \n",
      "Stjepan Rakarec, \n",
      "Davorin Špičko, \n",
      "Milan Pavlović, \n",
      "Senko Pušec, \n",
      "Filip Aleksić, \n",
      "Roman Tomašković, \n",
      "Peđa Čačić, \n",
      "Saša Poslončec,\n",
      "Mislav Zebić, \n",
      "Ian Žonja,\n",
      "Tomislav Cundić, \n",
      "Matija Kaniški,\n",
      "Petar Šestak,\n",
      "Ivana Završki,\n",
      "Vedran Vađunec, \n",
      "Matea Bodulušić, \n",
      "Andrea Danzante,\n"
     ]
    }
   ],
   "source": [
    "from xlrd import open_workbook\n",
    "book = open_workbook(filename)\n",
    "sheet = book.sheet_by_index(0)\n",
    "#sheet.col(0)\n",
    "L=[]\n",
    "for x in sheet.col(0):\n",
    "    L.append(x.value)\n",
    "    print(x.value)"
   ]
  },
  {
   "cell_type": "code",
   "execution_count": 15,
   "metadata": {
    "collapsed": false
   },
   "outputs": [],
   "source": [
    "def sredi(ime):\n",
    "    razdvojeno=ime.split()\n",
    "    return razdvojeno[::-1]"
   ]
  },
  {
   "cell_type": "code",
   "execution_count": 16,
   "metadata": {
    "collapsed": false
   },
   "outputs": [
    {
     "data": {
      "text/plain": [
       "[['Aleksić,', 'Filip'],\n",
       " ['Bodulušić,', 'Matea'],\n",
       " ['Cundić,', 'Tomislav'],\n",
       " ['Danzante,', 'Andrea'],\n",
       " ['Grgača,', 'Gabrijela'],\n",
       " ['Gucek,', 'Matej'],\n",
       " ['Kaniški,', 'Matija'],\n",
       " ['Milašinović,', 'Vladimir'],\n",
       " ['Mlakar,', 'Josip'],\n",
       " ['Pavlović,', 'Milan'],\n",
       " ['Popović,', 'Elvis'],\n",
       " ['Poslončec,', 'Saša'],\n",
       " ['Pušec,', 'Senko'],\n",
       " ['Rafajec,', 'Filip'],\n",
       " ['Rakarec,', 'Stjepan'],\n",
       " ['Tomašković,', 'Roman'],\n",
       " ['Vađunec,', 'Vedran'],\n",
       " ['Završki,', 'Ivana'],\n",
       " ['Zebić,', 'Mislav'],\n",
       " ['Čačić,', 'Peđa'],\n",
       " ['Šestak,', 'Petar'],\n",
       " ['Šolja,', 'Jura'],\n",
       " ['Špičko,', 'Davorin'],\n",
       " ['Žonja,', 'Ian']]"
      ]
     },
     "execution_count": 16,
     "metadata": {},
     "output_type": "execute_result"
    }
   ],
   "source": [
    "L=[x.value for x in sheet.col(0)]\n",
    "M=[x for x in L if x  != '' ]\n",
    "P=[sredi(ime) for ime in M]\n",
    "fja_usporedbe = lambda x:x[1]\n",
    "sorted(P)"
   ]
  },
  {
   "cell_type": "code",
   "execution_count": 6,
   "metadata": {
    "collapsed": false
   },
   "outputs": [],
   "source": [
    "import re"
   ]
  },
  {
   "cell_type": "code",
   "execution_count": 98,
   "metadata": {
    "collapsed": false
   },
   "outputs": [
    {
     "name": "stdout",
     "output_type": "stream",
     "text": [
      "[master 6371257] Notebook za citanje excella\r\n",
      " 1 file changed, 195 deletions(-)\r\n",
      " delete mode 100644 zadaci/my/vvadjune/Untitled.ipynb\r\n"
     ]
    }
   ],
   "source": [
    "! git commit -a -m \"Notebook za citanje excella\""
   ]
  },
  {
   "cell_type": "markdown",
   "metadata": {},
   "source": [
    "# ZADAĆA\n",
    "Spremanje u datoteku"
   ]
  },
  {
   "cell_type": "code",
   "execution_count": 1,
   "metadata": {
    "collapsed": true
   },
   "outputs": [],
   "source": [
    "import xlwt\n",
    "from xlrd import open_workbook\n",
    "filename=\"pywo_some_data.xlsx\"\n",
    "filenameW=\"pywo_some_data_EXPORT.xlsx\"\n",
    "book = open_workbook(filename)\n",
    "sheet = book.sheet_by_index(0)\n",
    "\n",
    "def sredi(ime):\n",
    "    razdvojeno=ime.split()\n",
    "    return razdvojeno[::-1]\n",
    "\n",
    "L=[x.value for x in sheet.col(0)]\n",
    "M=[x for x in L if x  != '' ]\n",
    "P=[sredi(ime) for ime in M]\n",
    "fja_usporedbe = lambda x:x[1]\n",
    "sort=sorted(P)\n",
    "\n",
    "# Spremanje u datoteku\n",
    "bookW = xlwt.Workbook()\n",
    "sheetW = bookW.add_sheet('Test')\n",
    "column_number = 0\n",
    "for row_number, item in enumerate(sort):\n",
    "        sheetW.write(row_number, column_number, item[0]+' '+item[1])\n",
    "bookW.save(filenameW)"
   ]
  },
  {
   "cell_type": "markdown",
   "metadata": {},
   "source": [
    "Sortiranje prema hrv jeziku"
   ]
  },
  {
   "cell_type": "code",
   "execution_count": 2,
   "metadata": {
    "collapsed": false
   },
   "outputs": [
    {
     "data": {
      "text/plain": [
       "['Aleksić, Filip',\n",
       " 'Bodulušić, Matea',\n",
       " 'Cundić, Tomislav',\n",
       " 'Čačić, Peđa',\n",
       " 'Danzante, Andrea',\n",
       " 'Grgača, Gabrijela',\n",
       " 'Gucek, Matej',\n",
       " 'Kaniški, Matija',\n",
       " 'Milašinović, Vladimir',\n",
       " 'Mlakar, Josip',\n",
       " 'Pavlović, Milan',\n",
       " 'Popović, Elvis',\n",
       " 'Poslončec, Saša',\n",
       " 'Pušec, Senko',\n",
       " 'Rafajec, Filip',\n",
       " 'Rakarec, Stjepan',\n",
       " 'Šestak, Petar',\n",
       " 'Šolja, Jura',\n",
       " 'Špičko, Davorin',\n",
       " 'Tomašković, Roman',\n",
       " 'Vađunec, Vedran',\n",
       " 'Završki, Ivana',\n",
       " 'Zebić, Mislav',\n",
       " 'Žonja, Ian']"
      ]
     },
     "execution_count": 2,
     "metadata": {},
     "output_type": "execute_result"
    }
   ],
   "source": [
    "import locale\n",
    "from functools import cmp_to_key\n",
    "locale.setlocale(locale.LC_ALL, 'hr_HR.UTF-8')\n",
    "P=[sredi(ime) for ime in M]\n",
    "\n",
    "L=[]\n",
    "for x in P:\n",
    "        L.append(x[0]+\" \"+x[1])\n",
    "        \n",
    "sorted(L, key=cmp_to_key(locale.strcoll)) "
   ]
  }
 ],
 "metadata": {
  "kernelspec": {
   "display_name": "Python 3",
   "language": "python",
   "name": "python3"
  },
  "language_info": {
   "codemirror_mode": {
    "name": "ipython",
    "version": 3
   },
   "file_extension": ".py",
   "mimetype": "text/x-python",
   "name": "python",
   "nbconvert_exporter": "python",
   "pygments_lexer": "ipython3",
   "version": "3.4.3"
  }
 },
 "nbformat": 4,
 "nbformat_minor": 0
}
