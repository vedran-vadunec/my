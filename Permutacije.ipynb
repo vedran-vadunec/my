{
 "cells": [
  {
   "cell_type": "code",
   "execution_count": null,
   "metadata": {
    "collapsed": true
   },
   "outputs": [],
   "source": [
    "def gen1(L):\n",
    "    for el in L:\n",
    "        if(L[el]<L[el+1]):\n",
    "            L[el]=L[el+1]\n",
    "            print (L)\n",
    "        \n",
    "L={1,2,3,4}\n",
    "skup=set(L)\n",
    "\n",
    "gen1(skup)\n",
    "print (skup)"
   ]
  },
  {
   "cell_type": "code",
   "execution_count": 11,
   "metadata": {
    "collapsed": false
   },
   "outputs": [
    {
     "name": "stdout",
     "output_type": "stream",
     "text": [
      "(1, 2, 3)\n",
      "(1, 3, 2)\n",
      "(2, 1, 3)\n",
      "(2, 3, 1)\n",
      "(3, 1, 2)\n",
      "(3, 2, 1)\n"
     ]
    }
   ],
   "source": [
    "import itertools\n",
    "def gen(L):\n",
    "    L=itertools.permutations(L)\n",
    "    return L\n",
    "    \n",
    "\n",
    "L=[1,2,3]\n",
    "for x in gen(L):\n",
    "        print (x)"
   ]
  },
  {
   "cell_type": "code",
   "execution_count": 27,
   "metadata": {
    "collapsed": false
   },
   "outputs": [
    {
     "name": "stdout",
     "output_type": "stream",
     "text": [
      "(1, 2, 3)\n",
      "(1, 3, 2)\n",
      "(2, 1, 3)\n",
      "(2, 3, 1)\n",
      "(3, 1, 2)\n",
      "(3, 2, 1)\n"
     ]
    }
   ],
   "source": [
    "import itertools\n",
    "def gen(L):\n",
    "    L=itertools.permutations(L)\n",
    "    for it in L:\n",
    "        yield it\n",
    "   \n",
    "L=[1,2,3]\n",
    "\n",
    "for x in gen(L):\n",
    "    print (x)"
   ]
  }
 ],
 "metadata": {
  "kernelspec": {
   "display_name": "Python 3",
   "language": "python",
   "name": "python3"
  },
  "language_info": {
   "codemirror_mode": {
    "name": "ipython",
    "version": 3
   },
   "file_extension": ".py",
   "mimetype": "text/x-python",
   "name": "python",
   "nbconvert_exporter": "python",
   "pygments_lexer": "ipython3",
   "version": "3.4.3"
  }
 },
 "nbformat": 4,
 "nbformat_minor": 0
}
