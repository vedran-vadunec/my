{
 "cells": [
  {
   "cell_type": "markdown",
   "metadata": {},
   "source": [
    "# Za zagrijavanje"
   ]
  },
  {
   "cell_type": "code",
   "execution_count": 8,
   "metadata": {
    "collapsed": false
   },
   "outputs": [
    {
     "data": {
      "text/plain": [
       "3"
      ]
     },
     "execution_count": 8,
     "metadata": {},
     "output_type": "execute_result"
    }
   ],
   "source": [
    "def f(x):\n",
    "    return x+1\n",
    "\n",
    "def func(x):\n",
    "    def tmpfunc(x):\n",
    "        for i in range(1,11):\n",
    "            return  f(x+i)\n",
    "    return tmpfunc\n",
    "\n",
    "n=[1,2,3,4,5]\n",
    "p=func(n)\n",
    "p(1)"
   ]
  },
  {
   "cell_type": "code",
   "execution_count": 13,
   "metadata": {
    "collapsed": false
   },
   "outputs": [
    {
     "name": "stdout",
     "output_type": "stream",
     "text": [
      "2\n",
      "3\n",
      "4\n",
      "5\n",
      "6\n",
      "7\n",
      "8\n",
      "9\n",
      "10\n",
      "11\n"
     ]
    }
   ],
   "source": [
    "fje=[]\n",
    "\n",
    "for i in range(1,11):\n",
    "    def f_i(x,inc=i):\n",
    "        return x+inc\n",
    "    \n",
    "    fje.append(f_i)\n",
    "\n",
    "for f in fje:\n",
    "    print (f(1))"
   ]
  },
  {
   "cell_type": "code",
   "execution_count": 18,
   "metadata": {
    "collapsed": false
   },
   "outputs": [
    {
     "data": {
      "text/plain": [
       "8"
      ]
     },
     "execution_count": 18,
     "metadata": {},
     "output_type": "execute_result"
    }
   ],
   "source": [
    "fje=[]\n",
    "\n",
    "def make_f_i(i):\n",
    "    def f_i(x):\n",
    "        return x+i\n",
    "    \n",
    "    return f_i\n",
    "\n",
    "f7=make_f_i(7)\n",
    "f7(1)\n"
   ]
  },
  {
   "cell_type": "markdown",
   "metadata": {},
   "source": [
    "# Porezna funkcija"
   ]
  },
  {
   "cell_type": "code",
   "execution_count": 74,
   "metadata": {
    "collapsed": false
   },
   "outputs": [],
   "source": [
    "def is_in_interval(x,interval):\n",
    "    l,d=interval\n",
    "    if d:\n",
    "        return (l<=x) and (x<d) \n",
    "    else: \n",
    "        return (l<=x)\n",
    "    \n",
    "def make_porezna_func(stope,limiti):\n",
    "    \n",
    "    pi_lista=[]\n",
    "    \n",
    "    last_limit=0\n",
    "    nul_fja=lambda x:0\n",
    "    last_pi=nul_fja\n",
    "    \n",
    "    i=0\n",
    "    for s,l in zip(stope,limiti):\n",
    "        def pi(x,last_limit=last_limit, last_pi=last_pi,s=s):\n",
    "            v=last_pi(last_limit)+s*x(x-last_limit)\n",
    "            return v\n",
    "    \n",
    "        last_limit=l\n",
    "        last_pi=pi\n",
    "        pi_lista.append(pi)\n",
    "        \n",
    "        i += i\n",
    "        \n",
    "    b=list(limiti)\n",
    "    b.insert(0,0)\n",
    "        \n",
    "    intervali=zip(a, a[1:])\n",
    "    print (list(intervali))\n",
    "        \n",
    "    def tmp_func(x,intervali=intervali, pi_lista=pi_lista):\n",
    "        for intvl in intervali:\n",
    "            if is_in_intervali(x,intvl):\n",
    "                return p(x)\n",
    "\n",
    "    return tmp_func"
   ]
  },
  {
   "cell_type": "code",
   "execution_count": 73,
   "metadata": {
    "collapsed": false
   },
   "outputs": [
    {
     "name": "stdout",
     "output_type": "stream",
     "text": [
      "stopa 0.1 do 100000\n",
      "stopa 0.2 do 200000\n",
      "stopa 0.3 do None\n",
      "[(0, 10), (10, 20), (20, 30), (30, None)]\n"
     ]
    },
    {
     "data": {
      "text/plain": [
       "(False, False, False)"
      ]
     },
     "execution_count": 73,
     "metadata": {},
     "output_type": "execute_result"
    }
   ],
   "source": [
    "stope=(0.1,0.2)\n",
    "limiti=(100000, None)\n",
    "\n",
    "stope=(0.1,0.2,0.3)\n",
    "limiti=(100000,200000, None)\n",
    "\n",
    "for s,l in zip(stope,limiti):\n",
    "    print(\"stopa {0} do {1}\".format(s,l))\n",
    "    \n",
    "p=make_porezna_func(stope, limiti)\n",
    "p(100)==100, p(100000)==100000, p(200000)==200000"
   ]
  },
  {
   "cell_type": "code",
   "execution_count": 60,
   "metadata": {
    "collapsed": false
   },
   "outputs": [
    {
     "data": {
      "text/plain": [
       "[(0, 10), (10, 20), (20, 30), (30, None)]"
      ]
     },
     "execution_count": 60,
     "metadata": {},
     "output_type": "execute_result"
    }
   ],
   "source": [
    "a=(0,10,20,30, None)\n",
    "b=list(zip(a, a[1:]))"
   ]
  },
  {
   "cell_type": "code",
   "execution_count": null,
   "metadata": {
    "collapsed": true
   },
   "outputs": [],
   "source": [
    "r=((0,10), (10,20) , (20,30), (30,None))"
   ]
  },
  {
   "cell_type": "code",
   "execution_count": 64,
   "metadata": {
    "collapsed": false
   },
   "outputs": [
    {
     "data": {
      "text/plain": [
       "False"
      ]
     },
     "execution_count": 64,
     "metadata": {},
     "output_type": "execute_result"
    }
   ],
   "source": [
    "is_in_interval(-10,(10,None))"
   ]
  },
  {
   "cell_type": "code",
   "execution_count": 76,
   "metadata": {
    "collapsed": false
   },
   "outputs": [
    {
     "name": "stderr",
     "output_type": "stream",
     "text": [
      "DEBUG:root:Ovo je debug level info\n",
      "INFO:root:ovo je info level \n",
      "WARNING:root:ovo je info level \n",
      "ERROR:root:ovo je info level \n",
      "CRITICAL:root:ovo je info level \n"
     ]
    }
   ],
   "source": [
    "import logging\n",
    "logger=logging.getLogger()\n",
    "logger.setLevel(logging.DEBUG)\n",
    "logging.debug(\"Ovo je debug level info\")\n",
    "logging.info(\"ovo je info level \")\n",
    "logging.warning(\"ovo je info level \")\n",
    "logging.error(\"ovo je info level \")\n",
    "logging.critical(\"ovo je info level \")"
   ]
  }
 ],
 "metadata": {
  "kernelspec": {
   "display_name": "Python 3",
   "language": "python",
   "name": "python3"
  },
  "language_info": {
   "codemirror_mode": {
    "name": "ipython",
    "version": 3
   },
   "file_extension": ".py",
   "mimetype": "text/x-python",
   "name": "python",
   "nbconvert_exporter": "python",
   "pygments_lexer": "ipython3",
   "version": "3.4.3"
  }
 },
 "nbformat": 4,
 "nbformat_minor": 0
}
