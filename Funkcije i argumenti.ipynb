{
 "cells": [
  {
   "cell_type": "markdown",
   "metadata": {},
   "source": [
    "Latex unutar paragrafa se pise \n",
    "$1+3+45=19$\n",
    "\n",
    "$$\n",
    "a+b+c\n",
    "$$\n"
   ]
  },
  {
   "cell_type": "code",
   "execution_count": 7,
   "metadata": {
    "collapsed": false
   },
   "outputs": [],
   "source": [
    "def func(n=1):\n",
    "    print (n)\n",
    "func(n=2)"
   ]
  },
  {
   "cell_type": "code",
   "execution_count": 9,
   "metadata": {
    "collapsed": false
   },
   "outputs": [
    {
     "data": {
      "text/plain": [
       "3"
      ]
     },
     "execution_count": 9,
     "metadata": {},
     "output_type": "execute_result"
    }
   ],
   "source": [
    "def func(m,n=1):\n",
    "    return m+n\n",
    "func(2)"
   ]
  },
  {
   "cell_type": "code",
   "execution_count": 10,
   "metadata": {
    "collapsed": true
   },
   "outputs": [],
   "source": [
    "def func(arg, arg2, defarg1=1, defarg2=2):\n",
    "    pass\n",
    "func(1,2)"
   ]
  },
  {
   "cell_type": "code",
   "execution_count": 13,
   "metadata": {
    "collapsed": false
   },
   "outputs": [
    {
     "name": "stdout",
     "output_type": "stream",
     "text": [
      "7\n"
     ]
    }
   ],
   "source": [
    "def func(arg, arg2, defarg1=1, defarg2=2):\n",
    "    print (arg+arg2+defarg1+defarg2)\n",
    "func(1,2,defarg2=3)"
   ]
  },
  {
   "cell_type": "code",
   "execution_count": 17,
   "metadata": {
    "collapsed": false
   },
   "outputs": [
    {
     "name": "stdout",
     "output_type": "stream",
     "text": [
      "10\n",
      "(5, 6, 7, 8, 9, 10)\n"
     ]
    }
   ],
   "source": [
    "def func(arg, arg2, defarg1=1, defarg2=2,*args):\n",
    "    print (arg+arg2+defarg1+defarg2)\n",
    "    print (args)\n",
    "func(1,2,3,4,5,6,7,8,9,10)"
   ]
  },
  {
   "cell_type": "code",
   "execution_count": 21,
   "metadata": {
    "collapsed": false
   },
   "outputs": [
    {
     "data": {
      "text/plain": [
       "6"
      ]
     },
     "execution_count": 21,
     "metadata": {},
     "output_type": "execute_result"
    }
   ],
   "source": [
    "def sumiraj(*args):\n",
    "    suma=0\n",
    "    for i in args:\n",
    "        suma+=i\n",
    "    return suma\n",
    "sumiraj(1,2,3)"
   ]
  },
  {
   "cell_type": "markdown",
   "metadata": {},
   "source": [
    "# Keyword arguments"
   ]
  },
  {
   "cell_type": "code",
   "execution_count": 26,
   "metadata": {
    "collapsed": false
   },
   "outputs": [
    {
     "name": "stdout",
     "output_type": "stream",
     "text": [
      "LISTA:  (1, 2, 3)\n",
      "RIJEČNIK:  {'debug': True}\n"
     ]
    }
   ],
   "source": [
    "def func2(*args, **kwargs):\n",
    "    print (\"LISTA: \",args) # lista\n",
    "    print (\"RIJEČNIK: \",kwargs) # dict\n",
    "    \n",
    "func2(1,2,3, debug=True)"
   ]
  },
  {
   "cell_type": "code",
   "execution_count": 30,
   "metadata": {
    "collapsed": false
   },
   "outputs": [
    {
     "data": {
      "text/plain": [
       "10"
      ]
     },
     "execution_count": 30,
     "metadata": {},
     "output_type": "execute_result"
    }
   ],
   "source": [
    "ntorka=(1,2,3,4)\n",
    "sumiraj(*ntorka) # raspakiranje liste sa zvjezdicom"
   ]
  },
  {
   "cell_type": "code",
   "execution_count": 37,
   "metadata": {
    "collapsed": false
   },
   "outputs": [
    {
     "name": "stdout",
     "output_type": "stream",
     "text": [
      "LISTA:  ({'novi': True, 'debug': 2},)\n",
      "RIJEČNIK:  {}\n",
      "LISTA:  ('novi', 'debug')\n",
      "RIJEČNIK:  {}\n",
      "LISTA:  ()\n",
      "RIJEČNIK:  {'novi': True, 'debug': 2}\n"
     ]
    }
   ],
   "source": [
    "rj={'debug':2 , 'novi':True}\n",
    "func2(rj)\n",
    "func2(*rj)\n",
    "func2(**rj)"
   ]
  },
  {
   "cell_type": "markdown",
   "metadata": {},
   "source": [
    "### U pythonu 3"
   ]
  },
  {
   "cell_type": "code",
   "execution_count": 38,
   "metadata": {
    "collapsed": false
   },
   "outputs": [
    {
     "data": {
      "text/plain": [
       "[0, 1, 2, 3, 4, 5, 6, 7, 8, 9]"
      ]
     },
     "execution_count": 38,
     "metadata": {},
     "output_type": "execute_result"
    }
   ],
   "source": [
    "L= list(range(10))\n",
    "L"
   ]
  },
  {
   "cell_type": "code",
   "execution_count": 50,
   "metadata": {
    "collapsed": false
   },
   "outputs": [
    {
     "name": "stdout",
     "output_type": "stream",
     "text": [
      "0\n",
      "1\n",
      "[2, 3, 4, 5, 6, 7, 8, 9]\n",
      "2 3 4 5 6 7 8 9\n"
     ]
    }
   ],
   "source": [
    "a,b, *c=L\n",
    "print (a)\n",
    "print (b)\n",
    "print (c)\n",
    "print (*c)\n",
    "\n",
    "first, *_, last=L"
   ]
  },
  {
   "cell_type": "code",
   "execution_count": null,
   "metadata": {
    "collapsed": true
   },
   "outputs": [],
   "source": []
  }
 ],
 "metadata": {
  "kernelspec": {
   "display_name": "Python 3",
   "language": "python",
   "name": "python3"
  },
  "language_info": {
   "codemirror_mode": {
    "name": "ipython",
    "version": 3
   },
   "file_extension": ".py",
   "mimetype": "text/x-python",
   "name": "python",
   "nbconvert_exporter": "python",
   "pygments_lexer": "ipython3",
   "version": "3.4.3"
  }
 },
 "nbformat": 4,
 "nbformat_minor": 0
}
