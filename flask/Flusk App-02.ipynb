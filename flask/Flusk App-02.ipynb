{
 "cells": [
  {
   "cell_type": "code",
   "execution_count": null,
   "metadata": {
    "collapsed": false
   },
   "outputs": [],
   "source": [
    "!mkdir -p static templates"
   ]
  },
  {
   "cell_type": "code",
   "execution_count": null,
   "metadata": {
    "collapsed": false
   },
   "outputs": [],
   "source": [
    "%%writefile main2.py\n",
    "\n",
    "from flask import Flask, render_template\n",
    "app=Flask(__name__)\n",
    "\n",
    "@app.route(\"/<greeting>\")\n",
    "def template_test():\n",
    "    return render_template(\"template.html\",my_string=greeting)\n",
    "\n",
    "if __name__ == '__main__':\n",
    "    app.run(debug=True)"
   ]
  },
  {
   "cell_type": "code",
   "execution_count": null,
   "metadata": {
    "collapsed": false
   },
   "outputs": [],
   "source": [
    "%%writefile templates/template.html\n",
    "<html>\n",
    "    <head>\n",
    "        <title>Flask Template Example</title>\n",
    "    </head>\n",
    "    \n",
    "    <body>\n",
    "        TEMPLATE\n",
    "        my_string=\n",
    "        {{ my_string }}\n",
    "    </body>\n",
    "</html>"
   ]
  },
  {
   "cell_type": "code",
   "execution_count": null,
   "metadata": {
    "collapsed": false
   },
   "outputs": [],
   "source": [
    "%%writefile templates/layout.html\n",
    "<html>\n",
    "    <head>\n",
    "        <title>{% block title %} TITLE {% endblock %}</title>\n",
    "    </head>\n",
    "    \n",
    "    <body>\n",
    "        {% block body_block %}\n",
    "        TEMPLATE\n",
    "        BODY BLOCK\n",
    "        {% endblock %}\n",
    "    </body>\n",
    "</html>"
   ]
  },
  {
   "cell_type": "code",
   "execution_count": null,
   "metadata": {
    "collapsed": false
   },
   "outputs": [],
   "source": [
    "%%writefile templates/index.html\n",
    "{% extends \"layout.html\" %} \n",
    "\n",
    "{% block title %} PRAVI TITLE {% endblock %}\n",
    "\n",
    "{% block body_block %} PRAVI BODY {% endblock %}"
   ]
  },
  {
   "cell_type": "code",
   "execution_count": null,
   "metadata": {
    "collapsed": false
   },
   "outputs": [],
   "source": [
    "%%writefile templates/base.html\n",
    "<html>\n",
    "    <head>\n",
    "        <title>{% block title %} TITLE {% endblock %}</title>\n",
    "    </head>\n",
    "    \n",
    "    <body>\n",
    "    <div>\n",
    "        {% block menu %}\n",
    "                Menu block\n",
    "        {% endblock %}\n",
    "    </div>   \n",
    "    <div>\n",
    "        {% block content %}\n",
    "                Content block\n",
    "        {% endblock %}\n",
    "     </div> \n",
    "     <div>\n",
    "        {% block footer %}\n",
    "                Footer block\n",
    "        {% endblock %}\n",
    "     </div> \n",
    "    </body>\n",
    "</html>"
   ]
  },
  {
   "cell_type": "code",
   "execution_count": null,
   "metadata": {
    "collapsed": false
   },
   "outputs": [],
   "source": [
    "%%writefile templates/index.html\n",
    "{% extends \"base.html\" %} \n",
    "\n",
    "{% block menu %} PRAVI MENU {% endblock %}\n",
    "{% block content %} PRAVI CONTENT {% endblock %}\n",
    "{% block footer %} PRAVI FOOTER {% endblock %}\n"
   ]
  },
  {
   "cell_type": "code",
   "execution_count": null,
   "metadata": {
    "collapsed": false
   },
   "outputs": [],
   "source": [
    "!python main2.py"
   ]
  }
 ],
 "metadata": {
  "kernelspec": {
   "display_name": "Python 3",
   "language": "python",
   "name": "python3"
  },
  "language_info": {
   "codemirror_mode": {
    "name": "ipython",
    "version": 3
   },
   "file_extension": ".py",
   "mimetype": "text/x-python",
   "name": "python",
   "nbconvert_exporter": "python",
   "pygments_lexer": "ipython3",
   "version": "3.4.3"
  }
 },
 "nbformat": 4,
 "nbformat_minor": 0
}
