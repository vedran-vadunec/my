{
 "cells": [
  {
   "cell_type": "markdown",
   "metadata": {
    "collapsed": true
   },
   "source": [
    "# Zadatak 1.1\n"
   ]
  },
  {
   "cell_type": "markdown",
   "metadata": {},
   "source": [
    "## Horner"
   ]
  },
  {
   "cell_type": "code",
   "execution_count": 63,
   "metadata": {
    "collapsed": false
   },
   "outputs": [
    {
     "name": "stdout",
     "output_type": "stream",
     "text": [
      "Tocka:  -1\n",
      "Polinom: \n",
      "[1, 2, -3, -4, 1]\n",
      "Izlaz: \n"
     ]
    },
    {
     "data": {
      "text/plain": [
       "[1, 1, -4, 0, 1]"
      ]
     },
     "execution_count": 63,
     "metadata": {},
     "output_type": "execute_result"
    }
   ],
   "source": [
    "# RJEŠENJE BEZ GENERATORA\n",
    "def horner(polinom, tocka):\n",
    "    pv=polinom[0]\n",
    "    list=[pv]\n",
    "    for c in polinom[1:]:\n",
    "        pv=pv*tocka+c\n",
    "        list.append(pv)\n",
    "    return list\n",
    "\n",
    "# TEST\n",
    "polinom=[1,2,-3,-4,1]\n",
    "tocka=-1\n",
    "print ('Tocka: ',tocka)\n",
    "print ('Polinom: ')\n",
    "print (polinom)  \n",
    "print ('Izlaz: ')\n",
    "horner(polinom,tocka)"
   ]
  },
  {
   "cell_type": "code",
   "execution_count": 17,
   "metadata": {
    "collapsed": false
   },
   "outputs": [
    {
     "name": "stdout",
     "output_type": "stream",
     "text": [
      "Tocka:  -1\n",
      "Polinom: \n",
      "[1, 2, -3, -4, 1]\n",
      "Izlaz: \n"
     ]
    },
    {
     "data": {
      "text/plain": [
       "[1, -4, 0, 1]"
      ]
     },
     "execution_count": 17,
     "metadata": {},
     "output_type": "execute_result"
    }
   ],
   "source": [
    "# RJEŠENJE SA GENERATOROM\n",
    "def horner_a(polinom, tocka):\n",
    "    pv=polinom[0]\n",
    "    velicina=len(polinom)\n",
    "    r=range(1,velicina)\n",
    "    for x in r: \n",
    "            pv=pv*tocka+polinom[x]\n",
    "            yield pv\n",
    "\n",
    "# TEST\n",
    "polinom=[1,2,-3,-4,1]\n",
    "tocka=-1\n",
    "print ('Tocka: ',tocka)\n",
    "print ('Polinom: ')\n",
    "print (polinom)  \n",
    "print ('Izlaz: ')\n",
    "\n",
    "list=[]\n",
    "for x in horner_a(polinom,tocka):\n",
    "    list.append(x)\n",
    "list"
   ]
  },
  {
   "cell_type": "code",
   "execution_count": 83,
   "metadata": {
    "collapsed": false
   },
   "outputs": [
    {
     "ename": "IndexError",
     "evalue": "list index out of range",
     "output_type": "error",
     "traceback": [
      "\u001b[1;31m---------------------------------------------------------------------------\u001b[0m",
      "\u001b[1;31mIndexError\u001b[0m                                Traceback (most recent call last)",
      "\u001b[1;32m<ipython-input-83-3f034a841afa>\u001b[0m in \u001b[0;36m<module>\u001b[1;34m()\u001b[0m\n\u001b[0;32m     24\u001b[0m \u001b[0mpolinom\u001b[0m\u001b[1;33m=\u001b[0m\u001b[1;33m[\u001b[0m\u001b[1;36m1\u001b[0m\u001b[1;33m,\u001b[0m \u001b[1;36m2\u001b[0m\u001b[1;33m,\u001b[0m \u001b[1;33m-\u001b[0m\u001b[1;36m4\u001b[0m\u001b[1;33m,\u001b[0m \u001b[1;36m7\u001b[0m\u001b[1;33m]\u001b[0m\u001b[1;33m\u001b[0m\u001b[0m\n\u001b[0;32m     25\u001b[0m \u001b[0mtocka\u001b[0m\u001b[1;33m=\u001b[0m\u001b[1;36m2\u001b[0m\u001b[1;33m\u001b[0m\u001b[0m\n\u001b[1;32m---> 26\u001b[1;33m \u001b[0mrazvoj_Horner\u001b[0m\u001b[1;33m(\u001b[0m\u001b[0mpolinom\u001b[0m\u001b[1;33m,\u001b[0m\u001b[0mtocka\u001b[0m\u001b[1;33m)\u001b[0m\u001b[1;33m\u001b[0m\u001b[0m\n\u001b[0m",
      "\u001b[1;32m<ipython-input-83-3f034a841afa>\u001b[0m in \u001b[0;36mrazvoj_Horner\u001b[1;34m(p, x0)\u001b[0m\n\u001b[0;32m     17\u001b[0m         \u001b[0mvrijednosti\u001b[0m\u001b[1;33m=\u001b[0m\u001b[1;33m[\u001b[0m\u001b[0mkoef\u001b[0m\u001b[1;33m[\u001b[0m\u001b[1;36m0\u001b[0m\u001b[1;33m]\u001b[0m\u001b[1;33m]\u001b[0m\u001b[1;33m\u001b[0m\u001b[0m\n\u001b[0;32m     18\u001b[0m         \u001b[1;32mfor\u001b[0m \u001b[0mk\u001b[0m \u001b[1;32min\u001b[0m \u001b[0mrange\u001b[0m\u001b[1;33m(\u001b[0m\u001b[1;36m1\u001b[0m\u001b[1;33m,\u001b[0m\u001b[0mlen\u001b[0m\u001b[1;33m(\u001b[0m\u001b[0mkoef\u001b[0m\u001b[1;33m)\u001b[0m\u001b[1;33m)\u001b[0m\u001b[1;33m:\u001b[0m\u001b[1;33m\u001b[0m\u001b[0m\n\u001b[1;32m---> 19\u001b[1;33m             \u001b[0mvrijednosti\u001b[0m\u001b[1;33m.\u001b[0m\u001b[0mappend\u001b[0m\u001b[1;33m(\u001b[0m\u001b[0mx0\u001b[0m\u001b[1;33m*\u001b[0m\u001b[0mvrijednosti\u001b[0m\u001b[1;33m[\u001b[0m\u001b[0mk\u001b[0m\u001b[1;33m-\u001b[0m\u001b[1;36m1\u001b[0m\u001b[1;33m]\u001b[0m\u001b[1;33m+\u001b[0m\u001b[0mkoef\u001b[0m\u001b[1;33m[\u001b[0m\u001b[0mk\u001b[0m\u001b[1;33m]\u001b[0m\u001b[1;33m)\u001b[0m\u001b[1;33m\u001b[0m\u001b[0m\n\u001b[0m\u001b[0;32m     20\u001b[0m             \u001b[0mtablica\u001b[0m\u001b[1;33m.\u001b[0m\u001b[0mappend\u001b[0m\u001b[1;33m(\u001b[0m\u001b[1;33m[\u001b[0m\u001b[0mx0\u001b[0m\u001b[1;33m]\u001b[0m\u001b[1;33m+\u001b[0m\u001b[0mvrijednosti\u001b[0m\u001b[1;33m)\u001b[0m\u001b[1;33m\u001b[0m\u001b[0m\n\u001b[0;32m     21\u001b[0m             \u001b[0mkoef\u001b[0m\u001b[1;33m=\u001b[0m\u001b[0mvrijednosti\u001b[0m\u001b[1;33m[\u001b[0m\u001b[1;33m:\u001b[0m\u001b[1;33m-\u001b[0m\u001b[1;36m1\u001b[0m\u001b[1;33m]\u001b[0m\u001b[1;33m\u001b[0m\u001b[0m\n",
      "\u001b[1;31mIndexError\u001b[0m: list index out of range"
     ]
    }
   ],
   "source": [
    "def razvoj_Horner(p,x0): \n",
    "    a=reversed(p)\n",
    "    i=0   # zbog error: TypeError: object of type 'list_reverseiterator' has no len()\n",
    "    list=[]\n",
    "    for x in a:\n",
    "        i=i+1\n",
    "        list.append(x)\n",
    "    d=i\n",
    "    koef=list\n",
    "    \n",
    "    d=len(koef) \n",
    "    tablica=[[\" \"]+koef] \n",
    "    for redak in range(d): \n",
    "        vrijednosti=[koef[0]] \n",
    "        for k in range(1,len(koef)): \n",
    "            vrijednosti.append(x0*vrijednosti[k-1]+koef[k]) \n",
    "            tablica.append([x0]+vrijednosti) \n",
    "            koef=vrijednosti[:-1] \n",
    "    return (tablica) \n",
    "\n",
    "polinom=[1, 2, -4, 7]\n",
    "tocka=2\n",
    "razvoj_Horner(polinom,tocka) "
   ]
  },
  {
   "cell_type": "markdown",
   "metadata": {},
   "source": [
    "### Euklid"
   ]
  },
  {
   "cell_type": "code",
   "execution_count": 8,
   "metadata": {
    "collapsed": false
   },
   "outputs": [
    {
     "name": "stdout",
     "output_type": "stream",
     "text": [
      "[112, 13, 8, 5, 3, 2, 1]\n",
      "[9, 0, 1, 1, 1, 1, 0]\n"
     ]
    }
   ],
   "source": [
    "import math\n",
    "# Niz ostataka\n",
    "def rem_g(a,b):\n",
    "        while a:\n",
    "                a, b = b%a, a\n",
    "                yield b\n",
    "                \n",
    "# Niz kvocjenta\n",
    "def quo_g(a,b):\n",
    "        while a:\n",
    "                c=a/b\n",
    "                yield (round(c))\n",
    "                a, b = b%a, a\n",
    "        \n",
    "# TEST\n",
    "ostaci=[]\n",
    "for x in rem_g(112,13):\n",
    "    ostaci.append(x)\n",
    "\n",
    "kvocjenti=[]\n",
    "for x in quo_g(112,13):\n",
    "    kvocjenti.append(x)\n",
    "\n",
    "print (ostaci),\n",
    "print (kvocjenti)\n",
    "\n"
   ]
  },
  {
   "cell_type": "code",
   "execution_count": 86,
   "metadata": {
    "collapsed": false
   },
   "outputs": [
    {
     "data": {
      "text/plain": [
       "1"
      ]
     },
     "execution_count": 86,
     "metadata": {},
     "output_type": "execute_result"
    }
   ],
   "source": [
    "from fractions import gcd\n",
    "gcd(112,13)"
   ]
  },
  {
   "cell_type": "markdown",
   "metadata": {},
   "source": [
    "## Zadatak 1.1"
   ]
  },
  {
   "cell_type": "markdown",
   "metadata": {},
   "source": [
    "## Zadatak 2.1\n",
    "a) zapisati sortirane rezultate u novu excel datoteku (vidjeti xlwt modul)"
   ]
  },
  {
   "cell_type": "code",
   "execution_count": 9,
   "metadata": {
    "collapsed": false
   },
   "outputs": [],
   "source": [
    "import xlwt\n",
    "from xlrd import open_workbook\n",
    "filename=\"pywo_some_data.xlsx\"\n",
    "filenameW=\"pywo_some_data_EXPORT.xlsx\"\n",
    "book = open_workbook(filename)\n",
    "sheet = book.sheet_by_index(0)\n",
    "\n",
    "def sredi(ime):\n",
    "    razdvojeno=ime.split()\n",
    "    return razdvojeno[::-1]\n",
    "\n",
    "L=[x.value for x in sheet.col(0)]\n",
    "M=[x for x in L if x  != '' ]\n",
    "P=[sredi(ime) for ime in M]\n",
    "fja_usporedbe = lambda x:x[1]\n",
    "sort=sorted(P)\n",
    "\n",
    "# Spremanje u datoteku\n",
    "bookW = xlwt.Workbook()\n",
    "sheetW = bookW.add_sheet('Test')\n",
    "column_number = 0\n",
    "for row_number, item in enumerate(sort):\n",
    "        sheetW.write(row_number, column_number, item[0]+' '+item[1])\n",
    "bookW.save(filenameW)"
   ]
  },
  {
   "cell_type": "markdown",
   "metadata": {},
   "source": [
    "b) sortirati imena sudionika prema hrvatskoj abecedi "
   ]
  },
  {
   "cell_type": "code",
   "execution_count": 12,
   "metadata": {
    "collapsed": false
   },
   "outputs": [
    {
     "ename": "TypeError",
     "evalue": "must be str, not list",
     "output_type": "error",
     "traceback": [
      "\u001b[1;31m---------------------------------------------------------------------------\u001b[0m",
      "\u001b[1;31mTypeError\u001b[0m                                 Traceback (most recent call last)",
      "\u001b[1;32m<ipython-input-12-93dec90172fd>\u001b[0m in \u001b[0;36m<module>\u001b[1;34m()\u001b[0m\n\u001b[0;32m      1\u001b[0m \u001b[1;32mimport\u001b[0m \u001b[0mlocale\u001b[0m\u001b[1;33m\u001b[0m\u001b[0m\n\u001b[0;32m      2\u001b[0m \u001b[0mlocale\u001b[0m\u001b[1;33m.\u001b[0m\u001b[0msetlocale\u001b[0m\u001b[1;33m(\u001b[0m\u001b[0mlocale\u001b[0m\u001b[1;33m.\u001b[0m\u001b[0mLC_ALL\u001b[0m\u001b[1;33m,\u001b[0m \u001b[1;34m'en_US.UTF-8'\u001b[0m\u001b[1;33m)\u001b[0m\u001b[1;33m\u001b[0m\u001b[0m\n\u001b[1;32m----> 3\u001b[1;33m \u001b[0msorted\u001b[0m\u001b[1;33m(\u001b[0m\u001b[0mP\u001b[0m\u001b[1;33m,\u001b[0m\u001b[0mkey\u001b[0m\u001b[1;33m=\u001b[0m\u001b[0mlocale\u001b[0m\u001b[1;33m.\u001b[0m\u001b[0mstrxfrm\u001b[0m\u001b[1;33m)\u001b[0m\u001b[1;33m\u001b[0m\u001b[0m\n\u001b[0m\u001b[0;32m      4\u001b[0m \u001b[1;33m\u001b[0m\u001b[0m\n",
      "\u001b[1;31mTypeError\u001b[0m: must be str, not list"
     ]
    }
   ],
   "source": [
    "import locale\n",
    "locale.setlocale(locale.LC_ALL, 'en_US.UTF-8')\n",
    "sorted(P,key=locale.strxfrm)\n",
    "P.sort(key=locale.strxfrm)\n"
   ]
  }
 ],
 "metadata": {
  "kernelspec": {
   "display_name": "Python 3",
   "language": "python",
   "name": "python3"
  },
  "language_info": {
   "codemirror_mode": {
    "name": "ipython",
    "version": 3
   },
   "file_extension": ".py",
   "mimetype": "text/x-python",
   "name": "python",
   "nbconvert_exporter": "python",
   "pygments_lexer": "ipython3",
   "version": "3.4.3"
  }
 },
 "nbformat": 4,
 "nbformat_minor": 0
}
